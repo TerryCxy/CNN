{
 "cells": [
  {
   "cell_type": "code",
   "execution_count": 1,
   "metadata": {},
   "outputs": [],
   "source": [
    "import pandas as pd\n",
    "import numpy as np\n",
    "import matplotlib.pyplot as plt\n",
    "train=pd.read_csv(\"train.csv\")\n",
    "test = pd.read_csv(\"test.csv\")"
   ]
  },
  {
   "cell_type": "markdown",
   "metadata": {},
   "source": [
    "## Data information"
   ]
  },
  {
   "cell_type": "code",
   "execution_count": 2,
   "metadata": {
    "scrolled": true
   },
   "outputs": [
    {
     "data": {
      "text/plain": [
       "(42000, 785)"
      ]
     },
     "execution_count": 2,
     "metadata": {},
     "output_type": "execute_result"
    }
   ],
   "source": [
    "train.shape"
   ]
  },
  {
   "cell_type": "code",
   "execution_count": 3,
   "metadata": {},
   "outputs": [
    {
     "data": {
      "image/png": "[encoded data removed]",
      "text/plain": [
       "<Figure size 432x288 with 1 Axes>"
      ]
     },
     "metadata": {
      "needs_background": "light"
     },
     "output_type": "display_data"
    }
   ],
   "source": [
    "sample=np.array(train.iloc[1,:-1].values).reshape((28,28))\n",
    "plt.imshow(sample)\n",
    "plt.show()"
   ]
  },
  {
   "cell_type": "code",
   "execution_count": 4,
   "metadata": {},
   "outputs": [
    {
     "name": "stdout",
     "output_type": "stream",
     "text": [
      "X_train shape: (42000, 784)\n",
      "y_label shape: (42000,)\n"
     ]
    }
   ],
   "source": [
    "X_train = np.array(train.iloc[:,:-1].values)\n",
    "y_label = np.array(train.iloc[:,1].values)\n",
    "print(\"X_train shape:\",X_train.shape)\n",
    "print(\"y_label shape:\",y_label.shape)"
   ]
  },
  {
   "cell_type": "markdown",
   "metadata": {},
   "source": [
    "## Load Data"
   ]
  },
  {
   "cell_type": "code",
   "execution_count": 6,
   "metadata": {},
   "outputs": [
    {
     "name": "stdout",
     "output_type": "stream",
     "text": [
      "Xtrain shape: (29400, 784)\n",
      "ylabel shape: (42000,)\n"
     ]
    }
   ],
   "source": [
    "from sklearn.model_selection import train_test_split\n",
    "import torch\n",
    "train_data = pd.read_csv('train.csv').values\n",
    "X_train, y_train = (train_data[:, 1:]-127) / 255, train_data[:, 0].astype(np.long)\n",
    "X_train,X_cv,y_train,y_cv=train_test_split(X_train,y_train,test_size=0.3,shuffle=True)\n",
    "print(\"Xtrain shape:\",X_train.shape)\n",
    "print(\"ylabel shape:\",y_label.shape)\n",
    "X_train = X_train.reshape(X_train.shape[0], 1, 28, 28)\n",
    "X_train, y_train = torch.from_numpy(X_train).float(), torch.from_numpy(y_train).float()\n",
    "# TensorDataset <- 合并\n",
    "train_dataset = torch.utils.data.TensorDataset(X_train, y_train) # 合并成dataset\n",
    "train_loader = torch.utils.data.DataLoader(train_dataset, batch_size=4, shuffle=False)"
   ]
  },
  {
   "cell_type": "code",
   "execution_count": 7,
   "metadata": {},
   "outputs": [],
   "source": [
    "import torch.nn as nn\n",
    "import torch.nn.functional as F\n",
    "\n",
    "\n",
    "class Net(nn.Module):\n",
    "    def __init__(self):\n",
    "        # 定义网络结构\n",
    "        super(Net, self).__init__()\n",
    "        self.conv1 = nn.Conv2d(1, 6, 5) # 输入通道数目，输出通道数目，卷积核大小\n",
    "        self.pool1 = nn.MaxPool2d(2, 2) # 最大值 池化层\n",
    "        self.conv2 = nn.Conv2d(6, 16, 5)\n",
    "        self.pool2 = nn.MaxPool2d(2, 2)\n",
    "        self.fc1 = nn.Linear(16 * 4 * 4, 120) # 全连接层 \n",
    "        self.fc2 = nn.Linear(120, 84)\n",
    "        self.fc3 = nn.Linear(84, 10) #  10个类别\n",
    "\n",
    "    def forward(self, x):\n",
    "        x = self.pool1(F.relu(self.conv1(x)))\n",
    "        x = self.pool2(F.relu(self.conv2(x)))\n",
    "        x = x.view(-1, 16 * 4 * 4)  \n",
    "        x = F.relu(self.fc1(x))\n",
    "        x = F.relu(self.fc2(x))\n",
    "        x = self.fc3(x)\n",
    "        return x\n",
    "    \n",
    "classes = ('0','1', '2', '3', '4','5', '6', '7', '8', '9')\n"
   ]
  },
  {
   "cell_type": "code",
   "execution_count": 8,
   "metadata": {},
   "outputs": [
    {
     "data": {
      "text/plain": [
       "Net(\n",
       "  (conv1): Conv2d(1, 6, kernel_size=(5, 5), stride=(1, 1))\n",
       "  (pool1): MaxPool2d(kernel_size=2, stride=2, padding=0, dilation=1, ceil_mode=False)\n",
       "  (conv2): Conv2d(6, 16, kernel_size=(5, 5), stride=(1, 1))\n",
       "  (pool2): MaxPool2d(kernel_size=2, stride=2, padding=0, dilation=1, ceil_mode=False)\n",
       "  (fc1): Linear(in_features=256, out_features=120, bias=True)\n",
       "  (fc2): Linear(in_features=120, out_features=84, bias=True)\n",
       "  (fc3): Linear(in_features=84, out_features=10, bias=True)\n",
       ")"
      ]
     },
     "execution_count": 8,
     "metadata": {},
     "output_type": "execute_result"
    }
   ],
   "source": [
    "Net()"
   ]
  },
  {
   "cell_type": "code",
   "execution_count": 9,
   "metadata": {},
   "outputs": [],
   "source": [
    "import torch.optim as optim\n",
    "net = Net();\n",
    "criterion = nn.CrossEntropyLoss()  # 交叉熵损失函数\n",
    "optimizer = optim.SGD(net.parameters(), lr=0.001, momentum=0.9)"
   ]
  },
  {
   "cell_type": "code",
   "execution_count": 10,
   "metadata": {},
   "outputs": [
    {
     "name": "stdout",
     "output_type": "stream",
     "text": [
      "[1,  1000] loss: 1.144\n",
      "[1,  2000] loss: 0.651\n",
      "[1,  3000] loss: 0.187\n",
      "[1,  4000] loss: 0.125\n",
      "[1,  5000] loss: 0.102\n",
      "[1,  6000] loss: 0.088\n",
      "[1,  7000] loss: 0.070\n",
      "[2,  1000] loss: 0.068\n",
      "[2,  2000] loss: 0.058\n",
      "[2,  3000] loss: 0.052\n",
      "[2,  4000] loss: 0.050\n",
      "[2,  5000] loss: 0.046\n",
      "[2,  6000] loss: 0.045\n",
      "[2,  7000] loss: 0.039\n",
      "[3,  1000] loss: 0.041\n",
      "[3,  2000] loss: 0.039\n",
      "[3,  3000] loss: 0.034\n",
      "[3,  4000] loss: 0.032\n",
      "[3,  5000] loss: 0.031\n",
      "[3,  6000] loss: 0.033\n",
      "[3,  7000] loss: 0.027\n",
      "Finished Training\n"
     ]
    }
   ],
   "source": [
    "for epoch in range(3):  # loop over the dataset multiple times\n",
    "\n",
    "    running_loss = 0.0\n",
    "    for i, data in enumerate(train_loader, 0):\n",
    "        # get the inputs; data is a list of [inputs, labels]\n",
    "        inputs, labels = data\n",
    "\n",
    "        # zero the parameter gradients\n",
    "        optimizer.zero_grad() \n",
    "\n",
    "        # forward + backward + optimize\n",
    "        outputs = net(inputs)\n",
    "        loss = criterion(outputs, labels.long())\n",
    "        loss.backward()\n",
    "        optimizer.step() # 参数更新\n",
    "\n",
    "        # print statistics\n",
    "        running_loss += loss.item()\n",
    "        if i % 1000 == 999:    # print every 2000 mini-batches\n",
    "            print('[%d, %5d] loss: %.3f' %\n",
    "                  (epoch + 1, i + 1, running_loss / 2000))\n",
    "            running_loss = 0.0\n",
    "\n",
    "print('Finished Training')"
   ]
  },
  {
   "cell_type": "code",
   "execution_count": 11,
   "metadata": {},
   "outputs": [],
   "source": [
    "PATH = './CNN.pth'\n",
    "torch.save(net.state_dict(), PATH)"
   ]
  },
  {
   "cell_type": "code",
   "execution_count": 12,
   "metadata": {},
   "outputs": [
    {
     "name": "stdout",
     "output_type": "stream",
     "text": [
      "test_data shape: (28000, 784)\n"
     ]
    }
   ],
   "source": [
    "import matplotlib.pyplot as plt\n",
    "import torchvision\n",
    "test_data = pd.read_csv('test.csv').values\n",
    "test_data = (test_data-127) / 255\n",
    "print(\"test_data shape:\",test_data.shape)\n",
    "test_data =test_data.reshape(test_data.shape[0], 1, 28, 28)\n",
    "test_data = torch.from_numpy(test_data).float()\n",
    "test_dataset = torch.utils.data.TensorDataset(test_data) # 合并成dataset\n",
    "test_loader = torch.utils.data.DataLoader(test_dataset, batch_size=5, shuffle=True)"
   ]
  },
  {
   "cell_type": "code",
   "execution_count": 13,
   "metadata": {},
   "outputs": [
    {
     "data": {
      "image/png": "[encoded data removed]",
      "text/plain": [
       "<Figure size 432x288 with 5 Axes>"
      ]
     },
     "metadata": {
      "needs_background": "light"
     },
     "output_type": "display_data"
    }
   ],
   "source": [
    "dataiter=iter(test_loader)\n",
    "image = dataiter.next()\n",
    "images = image[0]\n",
    "image = images.numpy()\n",
    "for i in range(5):\n",
    "    plt.subplot(151+i)\n",
    "    plt.imshow(image[i][0])"
   ]
  },
  {
   "cell_type": "code",
   "execution_count": 14,
   "metadata": {},
   "outputs": [
    {
     "data": {
      "text/plain": [
       "torch.Size([5, 10])"
      ]
     },
     "execution_count": 14,
     "metadata": {},
     "output_type": "execute_result"
    }
   ],
   "source": [
    "output=net(images)\n",
    "output.shape"
   ]
  },
  {
   "cell_type": "code",
   "execution_count": 15,
   "metadata": {},
   "outputs": [
    {
     "name": "stdout",
     "output_type": "stream",
     "text": [
      "tensor([1, 5, 3, 8, 1])\n"
     ]
    }
   ],
   "source": [
    "_,predicted = torch.max(output,1)\n",
    "print(predicted)"
   ]
  },
  {
   "cell_type": "code",
   "execution_count": 16,
   "metadata": {
    "scrolled": true
   },
   "outputs": [],
   "source": [
    "from sklearn.model_selection import train_test_split\n",
    "X_cv = X_cv.reshape(X_cv.shape[0], 1, 28, 28)\n",
    "X_cv, y_cv = torch.from_numpy(X_cv).float(), torch.from_numpy(y_cv)\n",
    "cv_dataset = torch.utils.data.TensorDataset(X_cv, y_cv)\n",
    "cv_loader= torch.utils.data.DataLoader(cv_dataset, batch_size=5, shuffle=True) "
   ]
  },
  {
   "cell_type": "code",
   "execution_count": 17,
   "metadata": {},
   "outputs": [],
   "source": [
    "total=0\n",
    "correct=0\n",
    "i=0\n",
    "with torch.no_grad():\n",
    "    for data in cv_loader:\n",
    "        image,labels=data\n",
    "        outputs = net(image)\n",
    "        _,index = torch.max(outputs,1)\n",
    "        total += labels.size(0) # 1 degree\n",
    "        correct += (index == labels).sum().item() # tensor->int"
   ]
  },
  {
   "cell_type": "code",
   "execution_count": 19,
   "metadata": {},
   "outputs": [
    {
     "name": "stdout",
     "output_type": "stream",
     "text": [
      "Accurancy:  97.659\n"
     ]
    }
   ],
   "source": [
    "print(\"Accurancy: \", np.round(correct * 100 / total,3))"
   ]
  },
  {
   "cell_type": "code",
   "execution_count": 21,
   "metadata": {},
   "outputs": [
    {
     "name": "stdout",
     "output_type": "stream",
     "text": [
      "test_data shape: torch.Size([28000, 784])\n"
     ]
    }
   ],
   "source": [
    "# submission\n",
    "test_data=np.array([])\n",
    "pred=[]\n",
    "test_data = np.array(pd.read_csv('test.csv').values)\n",
    "test_data = (test_data-127) / 255\n",
    "test_data= torch.Tensor(test_data).float()\n",
    "print(\"test_data shape:\",test_data.shape)\n",
    "test_data =test_data.reshape(test_data.shape[0], 1, 28, 28)\n",
    "with torch.no_grad():\n",
    "    for data in test_data:\n",
    "        images = data\n",
    "        images=images.unsqueeze(0) # 增加一个维度\n",
    "        output = net(images)\n",
    "        _,output=torch.max(output,1)\n",
    "        pred.append(output)\n"
   ]
  },
  {
   "cell_type": "code",
   "execution_count": 22,
   "metadata": {},
   "outputs": [],
   "source": [
    "pred_list=[]\n",
    "for i in pred:\n",
    "    pred_list.append(i.item())"
   ]
  },
  {
   "cell_type": "code",
   "execution_count": 44,
   "metadata": {},
   "outputs": [],
   "source": [
    "list_num=np.array([])\n",
    "list_num = np.array(range(len(pred_list))).T\n",
    "list_num += 1\n",
    "pred_ndarray=np.array(pred_list)\n",
    "submission=np.vstack((list_num,pred_ndarray)).T\n",
    "submission=submission.tolist()"
   ]
  },
  {
   "cell_type": "code",
   "execution_count": 48,
   "metadata": {},
   "outputs": [],
   "source": [
    "import csv\n",
    "for i in range(2):\n",
    "    for j in range(list_num.shape[0]):\n",
    "        submission[j][i]=str(submission[j][i])\n",
    "        \n",
    "with open('output.csv', 'w', newline='') as f:  \n",
    "    writer = csv.writer(f) \n",
    "    for j in range(list_num.shape[0]):\n",
    "        writer.writerow(submission[j]) "
   ]
  }
 ],
 "metadata": {
  "kernelspec": {
   "display_name": "Python 3",
   "language": "python",
   "name": "python3"
  },
  "language_info": {
   "codemirror_mode": {
    "name": "ipython",
    "version": 3
   },
   "file_extension": ".py",
   "mimetype": "text/x-python",
   "name": "python",
   "nbconvert_exporter": "python",
   "pygments_lexer": "ipython3",
   "version": "3.8.3"
  }
 },
 "nbformat": 4,
 "nbformat_minor": 4
}
